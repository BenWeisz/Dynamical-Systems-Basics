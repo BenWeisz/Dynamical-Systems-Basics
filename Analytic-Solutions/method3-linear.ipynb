{
 "cells": [
  {
   "cell_type": "code",
   "execution_count": 1,
   "metadata": {},
   "outputs": [],
   "source": [
    "# Please install these modules\n",
    "import numpy as np\n",
    "import matplotlib.pyplot as plt"
   ]
  },
  {
   "attachments": {},
   "cell_type": "markdown",
   "metadata": {},
   "source": [
    "### Problem setup"
   ]
  },
  {
   "cell_type": "code",
   "execution_count": 2,
   "metadata": {},
   "outputs": [],
   "source": [
    "T = 20 # The end of our range\n",
    "N = 100 # The number of points we will use\n",
    "t = np.linspace(0, T, N)"
   ]
  },
  {
   "cell_type": "code",
   "execution_count": 3,
   "metadata": {},
   "outputs": [],
   "source": [
    "# Our initial position and velocity\n",
    "x0 = 2.0\n",
    "v0 = 0.0"
   ]
  },
  {
   "attachments": {},
   "cell_type": "markdown",
   "metadata": {},
   "source": [
    "### Solving for $c_1$, $c_2$"
   ]
  },
  {
   "attachments": {},
   "cell_type": "markdown",
   "metadata": {
    "notebookRunGroups": {
     "groupValue": "2"
    }
   },
   "source": [
    "As we discussed in the section for Method 3: Linear Algebra, we have the following equations for our initial position and velocity:\n",
    "\n",
    "$\\begin{align}x(0) = c_1 + c_2 = 0\\end{align}$\n",
    "\n",
    "$\\begin{align}v(0) = ic_1 - ic_2 = 2\\end{align}$\n",
    "\n",
    "If you look closely this can be represented in matrix notation as:\n",
    "\n",
    "$\\begin{align}\n",
    "\\begin{pmatrix}\n",
    "1 & 1\\\\\n",
    "i & -i\n",
    "\\end{pmatrix} \\begin{pmatrix}\n",
    "c_1\\\\\n",
    "c_2\n",
    "\\end{pmatrix} = \\begin{pmatrix}\n",
    "2\\\\\n",
    "0\n",
    "\\end{pmatrix}\\end{align}$\n",
    "\n",
    "This is an equation that we can solve in numpy as follows:"
   ]
  },
  {
   "cell_type": "code",
   "execution_count": 4,
   "metadata": {},
   "outputs": [],
   "source": [
    "# Position and velocity stacked as a vector\n",
    "q = np.array([x0, v0])\n",
    "\n",
    "# The equation representing the matrix above\n",
    "A = np.array([[1.0, 1.0], [1.0j, -1.0j]])\n",
    "\n",
    "# The values for c1 and c2 for our given initial conditions\n",
    "c1, c2 = np.linalg.solve(A, q)\n"
   ]
  },
  {
   "attachments": {},
   "cell_type": "markdown",
   "metadata": {},
   "source": [
    "If we now peek the values for $c_1$ and $c_2$ we see the following:"
   ]
  },
  {
   "cell_type": "code",
   "execution_count": 5,
   "metadata": {},
   "outputs": [
    {
     "name": "stdout",
     "output_type": "stream",
     "text": [
      "c1: (1+0j), c2: (1+0j)\n"
     ]
    }
   ],
   "source": [
    "print(f\"c1: {c1}, c2: {c2}\")"
   ]
  },
  {
   "attachments": {},
   "cell_type": "markdown",
   "metadata": {},
   "source": [
    "If we sub these in we will get the equation $x(t) = 2cos(t)$. Since we know this, let's take a look at the behaviour of our system on the interval $0$ to $T$."
   ]
  },
  {
   "cell_type": "code",
   "execution_count": 6,
   "metadata": {},
   "outputs": [],
   "source": [
    "def x(t):\n",
    "    return 2.0 * np.cos(t)"
   ]
  },
  {
   "cell_type": "code",
   "execution_count": 7,
   "metadata": {},
   "outputs": [
    {
     "data": {
      "image/png": "[encoded data removed]",
      "text/plain": [
       "<Figure size 432x288 with 1 Axes>"
      ]
     },
     "metadata": {
      "needs_background": "light"
     },
     "output_type": "display_data"
    }
   ],
   "source": [
    "xt = x(t) #x(t) evaluated at our time points t\n",
    "\n",
    "plt.plot(t, xt, label=\"x(t)\")\n",
    "\n",
    "# Add axis labels\n",
    "plt.xlabel(\"time (s)\")\n",
    "plt.ylabel(\"x(t)\")\n",
    "\n",
    "plt.grid(True)\n",
    "plt.legend()\n",
    "\n",
    "plt.title(\"x(t) = 2cos(t)\")\n",
    "\n",
    "plt.savefig(\"method3-fig1.jpg\")\n",
    "plt.show()"
   ]
  }
 ],
 "metadata": {
  "kernelspec": {
   "display_name": "Python 3.8.13 ('sci3.8')",
   "language": "python",
   "name": "python3"
  },
  "language_info": {
   "codemirror_mode": {
    "name": "ipython",
    "version": 3
   },
   "file_extension": ".py",
   "mimetype": "text/x-python",
   "name": "python",
   "nbconvert_exporter": "python",
   "pygments_lexer": "ipython3",
   "version": "3.8.13"
  },
  "orig_nbformat": 4,
  "vscode": {
   "interpreter": {
    "hash": "ff08c4171beea2ba2baffa83ee956ea9270c863084b57064f7897ca142bd0a92"
   }
  }
 },
 "nbformat": 4,
 "nbformat_minor": 2
}
